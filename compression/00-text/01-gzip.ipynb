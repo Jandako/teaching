{
 "cells": [
  {
   "cell_type": "markdown",
   "metadata": {},
   "source": [
    "# [GZIP](http://www.gzip.org)\n",
    "\n",
    "* `gzip` (GNU zip) is a open-source text compressor, written by Mark Adler and Jean-loup Gailly.\n",
    "\n",
    "* It is described in [RFC 1951](https://www.ietf.org/rfc/rfc1951.txt) and [RFC 1952](https://www.ietf.org/rfc/rfc1952.txt).\n",
    "\n",
    "### DEFLATE algorithm\n",
    "\n",
    "1. Divide the input into blocks.\n",
    "2. LZ77 encode each block.\n",
    "3. Compute a Huffman tree for the offsets.\n",
    "4. Huffman encode the Huffman tree using a static probabilistic model.\n",
    "3. Huffman encode each block using an adaptive probabilistic model.\n"
   ]
  },
  {
   "cell_type": "markdown",
   "metadata": {},
   "source": [
    "### Test image corpus:\n",
    "\n",
    "#### Structure\n",
    "\n",
    "```\n",
    "struct 16bpp_PGM_pixel {\n",
    "  uint16 Y;\n",
    "};\n",
    "\n",
    "struct 8bpp_PGM_pixel {\n",
    "  uint8 Y;\n",
    "};\n",
    "\n",
    "struct 8bpp_PPM_pixel {\n",
    "  uint8 Red;\n",
    "  uint8 Green;\n",
    "  uint8 Blue;\n",
    "};\n",
    "\n",
    "struct 16bpp_PPM_pixel {\n",
    "  uint16 Red;\n",
    "  uint16 Green;\n",
    "  uint16 Blue;\n",
    "};\n",
    " \n",
    "struct PPM_image {\n",
    "  uint8[3] magic_number = \"P6\\n\"; /* PPM = Portable Pix Map */\n",
    "  uint8* width;                   /* Pixels in X (in ASCII) */\n",
    "  uint8 space = \" \";\n",
    "  uint8* height;                  /* Pixels in Y (in ASCII) */\n",
    "  uint8 new_line_1 = \"\\n\";\n",
    "  uint8* maximum_component_value; /* 255 or 65535 */\n",
    "  uint8 new_line_2 = \"\\n\";\n",
    "  if (maximum_component_value == 255) {\n",
    "    struct 8bpp_PPM_pixel[Width][Height] matrix;\n",
    "  } else {\n",
    "    struct 16bpp_PPM_pixel[Width][Height] matrix;\n",
    "  }\n",
    "};\n",
    "\n",
    "struct PGM_image {\n",
    "  uint8[3] magic_number = \"P5\\n\"; /* PPM = Portable Pix Map */\n",
    "  uint8* width;                   /* Pixels in X (in ASCII) */\n",
    "  uint8 space = \" \";\n",
    "  uint8* height;                  /* Pixels in Y (in ASCII) */\n",
    "  uint8 new_line_1 = \"\\n\";\n",
    "  uint8* maximum_component_value; /* 255 or 65535 */\n",
    "  uint8 new_line_2 = \"\\n\";\n",
    "  if (maximum_component_value == 255) {\n",
    "    struct 8bpp_PGM_pixel[Width][Height] matrix;\n",
    "  } else {\n",
    "    struct 16bpp_PGM_pixel[Width][Height] matrix;\n",
    "  }\n",
    "};\n",
    "```\n",
    "\n",
    "#### Images\n",
    "\n",
    "| lena (RGB 512x512x(8+8+8) bits)                     | peppers (RGB 512x512x(16+16+16) bits)                      |\n",
    "|-----------------------------------------------------|------------------------------------------------------------|\n",
    "| <img src=\"01-gzip/lena.png\" style=\"width: 400px;\"/> | <img src=\"01-gzip/peppers.png\" style=\"width: 400px;\"/>     |\n",
    "| wget http://www.hpca.ual.es/~vruiz/images/lena.png  | wget http://www.hpca.ual.es/~vruiz/images/peppers.png      |\n",
    "| convert lena.png lena.ppm                           | convert peppers.png peppers.ppm                            |\n",
    "\n",
    "| boats (Y 512x512x8 bits)                                 | zelda (Y 512x512x8 bits)                             |\n",
    "|----------------------------------------------------------|------------------------------------------------------|\n",
    "| <img src=\"01-gzip/boats.png\" style=\"width: 400px;\"/>     | <img src=\"01-gzip/zelda.png\" style=\"width: 400px;\"/> |\n",
    "| wget http://www.hpca.ual.es/~vruiz/images/boats.png      | wget http://www.hpca.ual.es/~vruiz/images/zelda.png  |\n",
    "| convert boats.png boats.pgm                              | convert zelda.png zelda.pgm                          |"
   ]
  },
  {
   "cell_type": "code",
   "execution_count": 92,
   "metadata": {},
   "outputs": [],
   "source": [
    "lena = !wc -c < 01-gzip/lena.ppm\n",
    "lena = lena[0]\n",
    "peppers = !wc -c < 01-gzip/peppers.ppm\n",
    "peppers = peppers[0]\n",
    "boats = !wc -c < 01-gzip/boats.pgm\n",
    "boats = boats[0]\n",
    "zelda = !wc -c < 01-gzip/zelda.pgm\n",
    "zelda = zelda[0]\n",
    "average = int((int(lena) + int(peppers) + int(boats) + int(zelda))/4)"
   ]
  },
  {
   "cell_type": "code",
   "execution_count": 93,
   "metadata": {},
   "outputs": [],
   "source": [
    "import io\n",
    "with io.open('../table.txt', 'w') as file:\n",
    "    file.write('    codec |    lena peppers   boats   zelda average\\n'.format(lena, peppers, boats, zelda, average))\n",
    "    file.write('----------+----------------------------------------\\n')"
   ]
  },
  {
   "cell_type": "code",
   "execution_count": 94,
   "metadata": {},
   "outputs": [],
   "source": [
    "import io\n",
    "with io.open('../table.txt', 'a') as file:\n",
    "    file.write(' original |{:8}{:8}{:8}{:8}{:8}\\n'.format(lena, peppers, boats, zelda, average))"
   ]
  },
  {
   "cell_type": "code",
   "execution_count": 95,
   "metadata": {},
   "outputs": [
    {
     "name": "stdout",
     "output_type": "stream",
     "text": [
      "    codec |    lena peppers   boats   zelda average\n",
      "----------+----------------------------------------\n",
      " original |  786447 1572883  262159  262159  720912\n",
      "\n"
     ]
    }
   ],
   "source": [
    "with io.open('../table.txt', 'r') as file:\n",
    "    print(file.read())"
   ]
  },
  {
   "cell_type": "code",
   "execution_count": 96,
   "metadata": {},
   "outputs": [
    {
     "name": "stdout",
     "output_type": "stream",
     "text": [
      "/tmp/lena.ppm:\t    6.6% -- replaced with /tmp/lena.ppm.gz\r\n"
     ]
    }
   ],
   "source": [
    "!cp 01-gzip/lena.ppm /tmp\n",
    "!gzip -9 -f -v /tmp/lena.ppm\n",
    "lena = !wc -c < /tmp/lena.ppm.gz\n",
    "lena = lena[0]"
   ]
  },
  {
   "cell_type": "code",
   "execution_count": 97,
   "metadata": {},
   "outputs": [
    {
     "name": "stdout",
     "output_type": "stream",
     "text": [
      "/tmp/peppers.ppm:\t   86.0% -- replaced with /tmp/peppers.ppm.gz\r\n"
     ]
    }
   ],
   "source": [
    "!cp 01-gzip/peppers.ppm /tmp\n",
    "!gzip -9 -f -v /tmp/peppers.ppm\n",
    "peppers = !wc -c < /tmp/peppers.ppm.gz\n",
    "peppers = peppers[0]"
   ]
  },
  {
   "cell_type": "code",
   "execution_count": 98,
   "metadata": {},
   "outputs": [
    {
     "name": "stdout",
     "output_type": "stream",
     "text": [
      "/tmp/boats.pgm:\t   23.4% -- replaced with /tmp/boats.pgm.gz\r\n"
     ]
    }
   ],
   "source": [
    "!cp 01-gzip/boats.pgm /tmp\n",
    "!gzip -9 -f -v /tmp/boats.pgm\n",
    "boats = !wc -c < /tmp/boats.pgm.gz\n",
    "boats = boats[0]"
   ]
  },
  {
   "cell_type": "code",
   "execution_count": 99,
   "metadata": {},
   "outputs": [
    {
     "name": "stdout",
     "output_type": "stream",
     "text": [
      "/tmp/zelda.pgm:\t   16.7% -- replaced with /tmp/zelda.pgm.gz\r\n"
     ]
    }
   ],
   "source": [
    "!cp 01-gzip/zelda.pgm /tmp\n",
    "!gzip -9 -f -v /tmp/zelda.pgm\n",
    "zelda = !wc -c < /tmp/zelda.pgm.gz\n",
    "zelda = zelda[0]"
   ]
  },
  {
   "cell_type": "code",
   "execution_count": 100,
   "metadata": {},
   "outputs": [],
   "source": [
    "average = int((int(lena) + int(peppers) + int(boats) + int(zelda))/4)"
   ]
  },
  {
   "cell_type": "code",
   "execution_count": 101,
   "metadata": {},
   "outputs": [],
   "source": [
    "import io\n",
    "with io.open('../table.txt', 'a') as file:\n",
    "    file.write('     gzip |{:8}{:8}{:8}{:8}{:8}\\n'.format(lena, peppers, boats, zelda, average))"
   ]
  },
  {
   "cell_type": "code",
   "execution_count": 102,
   "metadata": {},
   "outputs": [
    {
     "name": "stdout",
     "output_type": "stream",
     "text": [
      "    codec |    lena peppers   boats   zelda average\n",
      "----------+----------------------------------------\n",
      " original |  786447 1572883  262159  262159  720912\n",
      "     gzip |  733836  219854  200670  218198  343139\n",
      "\n"
     ]
    }
   ],
   "source": [
    "with io.open('../table.txt', 'r') as file:\n",
    "    print(file.read())"
   ]
  }
 ],
 "metadata": {
  "kernelspec": {
   "display_name": "Python 3",
   "language": "python",
   "name": "python3"
  },
  "language_info": {
   "codemirror_mode": {
    "name": "ipython",
    "version": 3
   },
   "file_extension": ".py",
   "mimetype": "text/x-python",
   "name": "python",
   "nbconvert_exporter": "python",
   "pygments_lexer": "ipython3",
   "version": "3.6.1"
  }
 },
 "nbformat": 4,
 "nbformat_minor": 2
}
