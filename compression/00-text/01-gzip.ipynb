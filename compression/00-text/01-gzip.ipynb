{
 "cells": [
  {
   "cell_type": "markdown",
   "metadata": {},
   "source": [
    "# [GZIP](http://www.gzip.org)\n",
    "\n",
    "* `gzip` (GNU zip) is a open-source text compressor, written by Mark Adler and Jean-loup Gailly.\n",
    "\n",
    "* It is described in [RFC 1951](https://www.ietf.org/rfc/rfc1951.txt) and [RFC 1952](https://www.ietf.org/rfc/rfc1952.txt).\n",
    "\n",
    "### DEFLATE algorithm\n",
    "\n",
    "1. Divide the input into blocks.\n",
    "2. LZ77 encode each block.\n",
    "3. Compute a Huffman tree for the offsets.\n",
    "4. Huffman encode the Huffman tree using a static probabilistic model.\n",
    "3. Huffman encode each block using an adaptive probabilistic model.\n"
   ]
  },
  {
   "cell_type": "markdown",
   "metadata": {},
   "source": [
    "### Test image corpus:\n",
    "\n",
    "#### Structure\n",
    "\n",
    "```\n",
    "struct 16bpp_PGM_pixel {\n",
    "  uint16 Y;\n",
    "};\n",
    "\n",
    "struct 8bpp_PGM_pixel {\n",
    "  uint8 Y;\n",
    "};\n",
    "\n",
    "struct 8bpp_PPM_pixel {\n",
    "  uint8 Red;\n",
    "  uint8 Green;\n",
    "  uint8 Blue;\n",
    "};\n",
    "\n",
    "struct 16bpp_PPM_pixel {\n",
    "  uint16 Red;\n",
    "  uint16 Green;\n",
    "  uint16 Blue;\n",
    "};\n",
    " \n",
    "struct PPM_image {\n",
    "  uint8[3] magic_number = \"P6\\n\"; /* PPM = Portable Pix Map */\n",
    "  uint8* width;                   /* Pixels in X (in ASCII) */\n",
    "  uint8 space = \" \";\n",
    "  uint8* height;                  /* Pixels in Y (in ASCII) */\n",
    "  uint8 new_line_1 = \"\\n\";\n",
    "  uint8* maximum_component_value; /* 255 or 65535 */\n",
    "  uint8 new_line_2 = \"\\n\";\n",
    "  if (maximum_component_value == 255) {\n",
    "    struct 8bpp_PPM_pixel[Width][Height] matrix;\n",
    "  } else {\n",
    "    struct 16bpp_PPM_pixel[Width][Height] matrix;\n",
    "  }\n",
    "};\n",
    "\n",
    "struct PGM_image {\n",
    "  uint8[3] magic_number = \"P5\\n\"; /* PPM = Portable Pix Map */\n",
    "  uint8* width;                   /* Pixels in X (in ASCII) */\n",
    "  uint8 space = \" \";\n",
    "  uint8* height;                  /* Pixels in Y (in ASCII) */\n",
    "  uint8 new_line_1 = \"\\n\";\n",
    "  uint8* maximum_component_value; /* 255 or 65535 */\n",
    "  uint8 new_line_2 = \"\\n\";\n",
    "  if (maximum_component_value == 255) {\n",
    "    struct 8bpp_PGM_pixel[Width][Height] matrix;\n",
    "  } else {\n",
    "    struct 16bpp_PGM_pixel[Width][Height] matrix;\n",
    "  }\n",
    "};\n",
    "```\n",
    "#### Images\n",
    "\n",
    "| lena (512x512x(8+8+8) bits)                         | peppers (512x512x(8+8+8) bits)                             |\n",
    "|-----------------------------------------------------|------------------------------------------------------------|\n",
    "| <img src=\"01-gzip/lena.png\" style=\"width: 400px;\"/> | <img src=\"01-gzip/peppers.png\" style=\"width: 400px;\"/>     |\n",
    "| wget http://www.hpca.ual.es/~vruiz/images/lena.png  | wget http://www.hpca.ual.es/~vruiz/images/peppers.png      |\n",
    "| convert lena.png lena.ppm                           | convert peppers.png peppers.ppm                            |\n",
    "\n",
    "| boats (512x512x8 bits)                                   | zelda (512x512x8 bits)                               |\n",
    "|----------------------------------------------------------|------------------------------------------------------|\n",
    "| <img src=\"01-gzip/boats.png\" style=\"width: 400px;\"/>     | <img src=\"01-gzip/zelda.png\" style=\"width: 400px;\"/> |\n",
    "| wget http://www.hpca.ual.es/~vruiz/images/boats.png      | wget http://www.hpca.ual.es/~vruiz/images/zelda.png  |\n",
    "| convert boats.png boats.pgm                              | convert zelda.png zelda.pgm                          |"
   ]
  },
  {
   "cell_type": "code",
   "execution_count": 12,
   "metadata": {},
   "outputs": [
    {
     "name": "stdout",
     "output_type": "stream",
     "text": [
      "/tmp/lena.ppm:\t  6.8% -- replaced with /tmp/lena.ppm.gz\r\n"
     ]
    }
   ],
   "source": [
    "!cp 01-gzip/lena.ppm /tmp\n",
    "!gzip -9 -f -v /tmp/lena.ppm\n",
    "lena_gzip = !wc -c < /tmp/lena.ppm.gz"
   ]
  },
  {
   "cell_type": "code",
   "execution_count": 11,
   "metadata": {},
   "outputs": [
    {
     "name": "stdout",
     "output_type": "stream",
     "text": [
      "/tmp/peppers.ppm:\t 86.0% -- replaced with /tmp/peppers.ppm.gz\n"
     ]
    }
   ],
   "source": [
    "!cp 01-gzip/peppers.ppm /tmp\n",
    "!gzip -9 -f -v /tmp/peppers.ppm\n",
    "peppers_gzip = !wc -c < /tmp/peppers.ppm.gz"
   ]
  },
  {
   "cell_type": "code",
   "execution_count": 13,
   "metadata": {},
   "outputs": [
    {
     "name": "stdout",
     "output_type": "stream",
     "text": [
      "/tmp/boats.pgm:\t 22.8% -- replaced with /tmp/boats.pgm.gz\r\n"
     ]
    }
   ],
   "source": [
    "!cp 01-gzip/boats.pgm /tmp\n",
    "!gzip -9 -f -v /tmp/boats.pgm\n",
    "boats_gzip = !wc -c < /tmp/boats.pgm.gz"
   ]
  },
  {
   "cell_type": "code",
   "execution_count": 14,
   "metadata": {},
   "outputs": [
    {
     "name": "stdout",
     "output_type": "stream",
     "text": [
      "/tmp/zelda.pgm:\t 16.5% -- replaced with /tmp/zelda.pgm.gz\r\n"
     ]
    }
   ],
   "source": [
    "!cp 01-gzip/zelda.pgm /tmp\n",
    "!gzip -9 -f -v /tmp/zelda.pgm\n",
    "zelda_gzip = !wc -c < /tmp/zelda.pgm.gz"
   ]
  },
  {
   "cell_type": "code",
   "execution_count": 15,
   "metadata": {},
   "outputs": [],
   "source": [
    "lena_original = !wc -c < 01-gzip/lena.ppm\n",
    "peppers_original = !wc -c < 01-gzip/peppers.ppm\n",
    "boats_original = !wc -c < 01-gzip/boats.pgm\n",
    "zelda_original = !wc -c < 01-gzip/zelda.pgm"
   ]
  },
  {
   "cell_type": "code",
   "execution_count": null,
   "metadata": {},
   "outputs": [],
   "source": [
    "import io\n",
    "with io.open('../../table.txt', 'w') as file:\n",
    "    file.write('{}\\n'.format(1))\n",
    "    file.write('{}\\n'.format(2))\n",
    "    file.write('{}\\n'.format(3))"
   ]
  }
 ],
 "metadata": {
  "kernelspec": {
   "display_name": "Python 3",
   "language": "python",
   "name": "python3"
  },
  "language_info": {
   "codemirror_mode": {
    "name": "ipython",
    "version": 3
   },
   "file_extension": ".py",
   "mimetype": "text/x-python",
   "name": "python",
   "nbconvert_exporter": "python",
   "pygments_lexer": "ipython3",
   "version": "3.6.3"
  }
 },
 "nbformat": 4,
 "nbformat_minor": 2
}
