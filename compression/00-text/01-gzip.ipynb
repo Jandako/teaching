{
 "cells": [
  {
   "cell_type": "markdown",
   "metadata": {},
   "source": [
    "# [GZIP](http://www.gzip.org)\n",
    "\n",
    "* `gzip` (GNU zip) is a open-source text compressor, written by Mark Adler and Jean-loup Gailly.\n",
    "\n",
    "* It is described in [RFC 1951](https://www.ietf.org/rfc/rfc1951.txt) and [RFC 1952](https://www.ietf.org/rfc/rfc1952.txt).\n",
    "\n",
    "### DEFLATE algorithm\n",
    "\n",
    "1. Divide the input into blocks.\n",
    "2. LZ77 encode each block.\n",
    "3. Compute a Huffman tree for the offsets.\n",
    "4. Huffman encode the Huffman tree using a static probabilistic model.\n",
    "3. Huffman encode each block using an adaptive probabilistic model.\n"
   ]
  },
  {
   "cell_type": "markdown",
   "metadata": {},
   "source": [
    "| lena                                                     | peppers                                                             |\n",
    "|----------------------------------------------------------|--------------------------------------------------------------------|\n",
    "| <img src=\"01-gzip/lena-gray.png\" style=\"width: 400px;\"/> | <img src=\"01-gzip/peppers-gray.png\" style=\"width: 400px;\"/> |\n",
    "\n",
    "| boats                                                    | zelda                                                |\n",
    "|----------------------------------------------------------|------------------------------------------------------|\n",
    "| <img src=\"01-gzip/boats.png\" style=\"width: 400px;\"/>     | <img src=\"01-gzip/zelda.png\" style=\"width: 400px;\"/> |"
   ]
  },
  {
   "cell_type": "code",
   "execution_count": null,
   "metadata": {},
   "outputs": [],
   "source": []
  }
 ],
 "metadata": {
  "kernelspec": {
   "display_name": "Python 3",
   "language": "python",
   "name": "python3"
  },
  "language_info": {
   "codemirror_mode": {
    "name": "ipython",
    "version": 3
   },
   "file_extension": ".py",
   "mimetype": "text/x-python",
   "name": "python",
   "nbconvert_exporter": "python",
   "pygments_lexer": "ipython3",
   "version": "3.6.1"
  }
 },
 "nbformat": 4,
 "nbformat_minor": 2
}
