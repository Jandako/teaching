{
 "cells": [
  {
   "cell_type": "markdown",
   "metadata": {},
   "source": [
    "# The JPEG standard (ISO/IEC 10918-1)"
   ]
  },
  {
   "cell_type": "markdown",
   "metadata": {},
   "source": [
    "## Intro\n",
    "\n",
    "* JPEG = Joint Photographic Experts Group.\n",
    "* Developed in 1992 by the ISO [[ISO, 1992]](https://idea2ic.com/File_Formats/CCITT.pdf).\n",
    "* True color (up to 24 bits/pixel) and grayscale (up to 8\n",
    "  bits/pixel) images.\n",
    "* Eligible compression quality between $0-100$ [[Wallace, 1992]](https://scholar.google.es/scholar?hl=es&as_sdt=0%2C5&q=GK+Wallace+jpeg+1992&btnG=).\n",
    "* Visually lossless reconstructions of color images for\n",
    "  compression ratios about $1$ bits/pixel (bpp).\n",
    "* Based on the Discrete Cosine Transform (DCT).\n",
    "* Several working modes: lossy (JPEG), lossless (JPEG-LS) and hierarchical."
   ]
  },
  {
   "cell_type": "markdown",
   "metadata": {},
   "source": [
    "## JPEG lossless [[ISO, 1992]](https://idea2ic.com/File_Formats/CCITT.pdf)\n",
    "\n",
    "* Based on an spatial predictor and a 0-order static\n",
    "  variable-length encoder (Huffman).\n",
    "\n",
    "* The block diagram is:\n",
    "<img src=\"JPEG/LS-JPEG_codec.svg\" style=\"width: 400px;\"/>\n",
    "where\n",
    "<img src=\"JPEG/contexto_prediccion_JPEG.svg\" style=\"width: 100px;\"/>\n",
    "and\n",
    "<img src=\"JPEG/LS-JPEG_predictors.svg\" style=\"width: 200px;\"/>\n",
    "\n"
   ]
  },
  {
   "cell_type": "markdown",
   "metadata": {},
   "source": [
    "### Coder\n",
    "1. Generate $\\hat{s}$.\n",
    "2. Compute the prediction error $e\\leftarrow s - \\hat{s}$.\n",
    "3. Encode $e$."
   ]
  },
  {
   "cell_type": "markdown",
   "metadata": {},
   "source": [
    "### Decoder\n",
    "1. Generate $\\hat{s}$ (idential to the Step 1 of the compressor).\n",
    "2. Descode $e$.\n",
    "3. Compute the pixel value $s\\leftarrow e+\\hat{s}$."
   ]
  },
  {
   "cell_type": "markdown",
   "metadata": {},
   "source": [
    "#### Encode symbol\n",
    "1. Search $e$ in $DIFF$ and select $SSSS$.\n",
    "2. Encode $SSSS$ following the base code.\n",
    "3. If $e>0$, then:\n",
    "   1. Encode $e$ using a binary number of $SSSS$ bits. The most\n",
    "      significant bit of $e$ will be always 1.\n",
    "4. Else:\n",
    "   2. Encode $e-1$ using a binary number of $SSSS$ bits. The most\n",
    "    significant bit of $e$ will be always a 0."
   ]
  },
  {
   "cell_type": "code",
   "execution_count": null,
   "metadata": {},
   "outputs": [],
   "source": []
  }
 ],
 "metadata": {
  "kernelspec": {
   "display_name": "Python 3",
   "language": "python",
   "name": "python3"
  },
  "language_info": {
   "codemirror_mode": {
    "name": "ipython",
    "version": 3
   },
   "file_extension": ".py",
   "mimetype": "text/x-python",
   "name": "python",
   "nbconvert_exporter": "python",
   "pygments_lexer": "ipython3",
   "version": "3.6.1"
  }
 },
 "nbformat": 4,
 "nbformat_minor": 2
}
