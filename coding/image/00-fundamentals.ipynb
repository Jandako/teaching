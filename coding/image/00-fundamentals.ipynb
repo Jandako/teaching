{
 "cells": [
  {
   "cell_type": "markdown",
   "metadata": {},
   "source": [
    "# Image coding fundamentals"
   ]
  },
  {
   "cell_type": "markdown",
   "metadata": {},
   "source": [
    "### Motivation"
   ]
  },
  {
   "cell_type": "code",
   "execution_count": 9,
   "metadata": {
    "collapsed": false
   },
   "outputs": [
    {
     "name": "stdout",
     "output_type": "stream",
     "text": [
      "--2017-10-12 16:11:22--  http://www.hpca.ual.es/~vruiz/images/Homer.png\n",
      "Resolving www.hpca.ual.es... 150.214.150.42\n",
      "Connecting to www.hpca.ual.es|150.214.150.42|:80... connected.\n",
      "HTTP request sent, awaiting response... 200 OK\n",
      "Length: 374512 (366K) [image/png]\n",
      "Saving to: ‘Homer.png.1’\n",
      "\n",
      "Homer.png.1         100%[===================>] 365.73K  --.-KB/s    in 0.1s    \n",
      "\n",
      "2017-10-12 16:11:22 (2.43 MB/s) - ‘Homer.png.1’ saved [374512/374512]\n",
      "\n"
     ]
    }
   ],
   "source": [
    "!wget http://www.hpca.ual.es/~vruiz/images/Homer.png"
   ]
  },
  {
   "cell_type": "markdown",
   "metadata": {},
   "source": [
    "![Homer-j2c.png](./Homer-j2c.png)"
   ]
  },
  {
   "cell_type": "code",
   "execution_count": 17,
   "metadata": {
    "collapsed": false
   },
   "outputs": [
    {
     "name": "stdout",
     "output_type": "stream",
     "text": [
      "374512 bytes\r\n"
     ]
    }
   ],
   "source": [
    "!echo `wc -c < Homer.png` bytes"
   ]
  },
  {
   "cell_type": "code",
   "execution_count": 21,
   "metadata": {
    "collapsed": true
   },
   "outputs": [],
   "source": [
    "!convert -quality 40 Homer.png Homer.jp2\n",
    "# Note: in OSX, install imagemagick with: \"brew install imagemagick --with-openjpeg\""
   ]
  },
  {
   "cell_type": "markdown",
   "metadata": {},
   "source": [
    "![Homer.jp2](./Homer.png)"
   ]
  },
  {
   "cell_type": "code",
   "execution_count": 24,
   "metadata": {
    "collapsed": false
   },
   "outputs": [
    {
     "name": "stdout",
     "output_type": "stream",
     "text": [
      "28642 bytes\r\n"
     ]
    }
   ],
   "source": [
    "!echo `wc -c < Homer.jp2` bytes"
   ]
  },
  {
   "cell_type": "code",
   "execution_count": null,
   "metadata": {
    "collapsed": false
   },
   "outputs": [],
   "source": [
    "from PIL import Image, ImageChops, ImageOps\n",
    "orig = Image.open('Homer.png')\n",
    "comp = Image.open('Homer.jp2')\n",
    "diff = ImageChops.subtract(orig, comp)\n",
    "diff = ImageOps.equalize(diff)\n",
    "diff.save('diff.png')"
   ]
  },
  {
   "cell_type": "markdown",
   "metadata": {},
   "source": [
    "![diff.png](./diff.png)"
   ]
  },
  {
   "cell_type": "markdown",
   "metadata": {},
   "source": [
    "## Spatial redundancy"
   ]
  },
  {
   "cell_type": "markdown",
   "metadata": {},
   "source": [
    "Image compressors exploit *spatial redundancy* to achieve better bit-rate/distortion ratios."
   ]
  },
  {
   "cell_type": "code",
   "execution_count": 31,
   "metadata": {
    "collapsed": false
   },
   "outputs": [
    {
     "name": "stdout",
     "output_type": "stream",
     "text": [
      "/Users/vruiz/home/teaching/coding/image/00-fundamentals\n",
      "--2017-10-12 17:12:29--  http://www.hpca.ual.es/~vruiz/images/lena.png\n",
      "Resolving www.hpca.ual.es... 150.214.150.42\n",
      "Connecting to www.hpca.ual.es|150.214.150.42|:80... connected.\n",
      "HTTP request sent, awaiting response... 200 OK\n",
      "Length: 512673 (501K) [image/png]\n",
      "Saving to: ‘lena.png’\n",
      "\n",
      "lena.png            100%[===================>] 500.66K  --.-KB/s    in 0.1s    \n",
      "\n",
      "2017-10-12 17:12:29 (3.98 MB/s) - ‘lena.png’ saved [512673/512673]\n",
      "\n",
      "/Users/vruiz/home/teaching/coding/image\n"
     ]
    }
   ],
   "source": [
    "%cd 00-fundamentals/\n",
    "!wget http://www.hpca.ual.es/~vruiz/images/lena.png\n",
    "!convert lena.png lena.ppm\n",
    "!pnmcut -top 250 -right 350 -width 40 -height 40 < lena.ppm | pnmtopng > lena-cut.png\n",
    "!fig2dev -L png correlacion_lena.fig > correlacion_lena.png\n",
    "%cd .."
   ]
  },
  {
   "cell_type": "markdown",
   "metadata": {},
   "source": [
    "![correlacion_lena.png](./00-fundamentals/correlacion_lena.png)"
   ]
  },
  {
   "cell_type": "markdown",
   "metadata": {},
   "source": [
    "Spatial redundancy generates that neighbor pixels have similar colors."
   ]
  },
  {
   "cell_type": "code",
   "execution_count": null,
   "metadata": {
    "collapsed": true
   },
   "outputs": [],
   "source": []
  }
 ],
 "metadata": {
  "kernelspec": {
   "display_name": "Python 3",
   "language": "python",
   "name": "python3"
  },
  "language_info": {
   "codemirror_mode": {
    "name": "ipython",
    "version": 3
   },
   "file_extension": ".py",
   "mimetype": "text/x-python",
   "name": "python",
   "nbconvert_exporter": "python",
   "pygments_lexer": "ipython3",
   "version": "3.5.1rc1"
  }
 },
 "nbformat": 4,
 "nbformat_minor": 1
}
