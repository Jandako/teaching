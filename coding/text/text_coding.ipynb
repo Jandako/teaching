{
 "cells": [
  {
   "cell_type": "markdown",
   "metadata": {},
   "source": [
    "# Text compression\n",
    "\n",
    "## Why?\n",
    "\n",
    "* After the digitalization of any signal we get a sequence $s[]$\n",
    "  of samples that represent the signal $s$ with more or less fidelity.\n",
    "  \n",
    "* $s[]$ is encoded using PCM (Pulse Code Modulation), in which\n",
    "  every sample is represented with the same number of bits. For\n",
    "  example, in a CD we have a data-rate of\n",
    "  \n",
    "  $$\n",
    "    (16+16)\\frac{\\text{bits}}{\\text{sample}}\\times\n",
    "    44{.}100\\frac{\\text{samples}}{\\text{second}}=\n",
    "    1{.}411{.}200\\frac{\\text{bits}}{\\text{second}}.\n",
    "  $$"
   ]
  },
  {
   "cell_type": "markdown",
   "metadata": {},
   "source": [
    "## Sources of redundancy in signals\n",
    "\n",
    "* In general, signals has different types of redundancy:\n",
    "\n",
    "    + **Statistical redundancy**: It can be removed using\n",
    "    probabilistic models of the signal producing lossless codecs. The\n",
    "    codecs are also known as *text codecs*.\n",
    "    \n",
    "    + **Spatial/temporal redundancy**: It can be removed using\n",
    "    spatial/temporal models of the signal and produces also lossless\n",
    "    codecs.\n",
    "    \n",
    "    + **Psychological redundancy**: Some information that\n",
    "    signal carry can not be perceived by humans. This kind of\n",
    "    pseudo-redundancy is removed normally by means of quantization,\n",
    "    producing lossy codecs."
   ]
  },
  {
   "cell_type": "markdown",
   "metadata": {},
   "source": [
    "## Symbols, runs, strings, code-words and code-streams\n",
    "\n",
    "* In the context of statistical coding, each sample of $s[]$ is\n",
    "  called a *symbol*.\n",
    "  \n",
    "* Depending on the type of statistical relationship among\n",
    "  symbols, we will speak also about *strings* when we process\n",
    "  more than one symbol and about *runs* when all the symbols are\n",
    "  the same in a string.\n",
    "  \n",
    "* In any case, the output of the encoder is a sequence of\n",
    "  code-words that all together generates a *code-stream*."
   ]
  },
  {
   "cell_type": "markdown",
   "metadata": {},
   "source": [
    "## A. Run-length encoding\n",
    "\n",
    "* RLE (Run Length Encoding) is a technique that removes the data\n",
    "  redundancy produced by the repetition of symbols. Example:\n",
    "  ```\n",
    "  aaaaa <-> 5a\n",
    "  ```\n",
    "  \n",
    "* There are several versions of RLE codecs, which are different in\n",
    "  the size of the source alphabet or the maximal/minimal length that\n",
    "  the runs can take."
   ]
  },
  {
   "cell_type": "markdown",
   "metadata": {},
   "source": [
    "### A.1 N-ary run length encoding\n",
    "\n",
    "RLE for N-ary alphabets (alphabets of size N), where typically, N=256.\n",
    "\n",
    "#### Encoder\n",
    "\n",
    "1. While there are symbols to encode:\n",
    "    1. Let $s$ the next symbol.\n",
    "    2. Read the next $n$ consecutive symbols equal to $s$.\n",
    "    3. Write the pair $ns$.\n",
    "\n",
    "#### Decoder\n",
    "\n",
    "1. While there are $ns$ pairs to decode:\n",
    "    1. Write $n$-times the symbol $s$.\n",
    "    \n",
    "#### Example\n",
    "\n",
    "Runs:\n",
    "```\n",
    "aaaabbbbbaaaaaabbbbbbbcccccc\n",
    "```\n",
    "are encoded as:\n",
    "```\n",
    "4a5b6a7b6c\n",
    "```"
   ]
  },
  {
   "cell_type": "markdown",
   "metadata": {},
   "source": [
    "### A.2 Binary run length encoding\n",
    "\n",
    "* It is not necessary to indicate the next symbol\n",
    "  (only the length) because if a run ends, the other (possible) symbol\n",
    "  start with the next run.\n",
    "  \n",
    "#### Encoder\n",
    "\n",
    "1. Let $s\\leftarrow$ \\texttt{0}.\n",
    "2. While there are bits to encode:\n",
    "    1. Read the next $n$ consecutive bits equal to $s$.\n",
    "    2. Write $n$.\n",
    "    3. $s\\leftarrow (s+1)~\\text{modulus}~2$.\n",
    "    \n",
    "#### Decoder\n",
    "\n",
    "1. Let $s\\leftarrow$ \\texttt{0}.\n",
    "2. While there are items $n$ to decode:\n",
    "    1. Write $n$ bits equal to $s$.\n",
    "    2. $s\\leftarrow (s+1)~\\text{modulus}~2$.\n",
    "\n",
    "#### Example\n",
    "\n",
    "Runs:\n",
    "```\n",
    "0000111110000001111111000000\n",
    "```\n",
    "are encoded as::\n",
    "```\n",
    "4 5 6 7 6\n",
    "```"
   ]
  },
  {
   "cell_type": "markdown",
   "metadata": {},
   "source": [
    "### A.3 [MPN-5 run length encoding](https://scholar.google.es/scholar?hl=es&as_sdt=0%2C5&q=held+data+compression+techniques+applications&btnG=)\n",
    "\n",
    "* Created by Microcom Inc. for the MNP (Microcom Networking\n",
    "  Protocol) 5.\n",
    "\n",
    "#### Codec\n",
    "\n",
    "* The behavior of the codec can be easily defined with the\n",
    "  following examples:\n",
    "  \n",
    "```\n",
    "Input     Output\n",
    "--------- ---------\n",
    "ab        ab\n",
    "aab       aab\n",
    "aaab      aaa0b\n",
    "aaaab     aaa1b\n",
    "aaaaab    aaa2b\n",
    ":         :\n",
    "a^nb      aaa(n-3)b\n",
    "```\n",
    "\n",
    "#### Example\n",
    "\n",
    "Runs:\n",
    "```\n",
    "aaaabbbbbaaaaaabbbbbbbcccccc\n",
    "```\n",
    "are encoded as:\n",
    "```\n",
    "aaa1bbb2aaa3bbb4\n",
    "```\n",
    "\n",
    "#### Lab"
   ]
  },
  {
   "cell_type": "code",
   "execution_count": null,
   "metadata": {
    "collapsed": true
   },
   "outputs": [],
   "source": []
  }
 ],
 "metadata": {
  "kernelspec": {
   "display_name": "Python 3",
   "language": "python",
   "name": "python3"
  },
  "language_info": {
   "codemirror_mode": {
    "name": "ipython",
    "version": 3
   },
   "file_extension": ".py",
   "mimetype": "text/x-python",
   "name": "python",
   "nbconvert_exporter": "python",
   "pygments_lexer": "ipython3",
   "version": "3.5.1rc1"
  }
 },
 "nbformat": 4,
 "nbformat_minor": 1
}
